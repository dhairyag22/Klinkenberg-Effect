{
 "cells": [
  {
   "cell_type": "markdown",
   "id": "2bf79ff0",
   "metadata": {},
   "source": [
    "# Klinkenberg Effect"
   ]
  },
  {
   "cell_type": "code",
   "execution_count": 49,
   "id": "890767ac",
   "metadata": {},
   "outputs": [],
   "source": [
    "import numpy as np\n",
    "import pandas as pd\n",
    "import math\n",
    "import matplotlib.pyplot as plt \n",
    "\n",
    "from sklearn.linear_model import LinearRegression"
   ]
  },
  {
   "cell_type": "markdown",
   "id": "451f4c57",
   "metadata": {},
   "source": [
    "***Note** : All the data (values) used for calculations are obtained experimentally in laboratory.*"
   ]
  },
  {
   "cell_type": "markdown",
   "id": "530f1f40",
   "metadata": {},
   "source": [
    "## Porosity determination:"
   ]
  },
  {
   "cell_type": "code",
   "execution_count": 13,
   "id": "f8972f94",
   "metadata": {},
   "outputs": [],
   "source": [
    "d = 3.650  # diameter(cm)\n",
    "l = 6.436  # length(cm)\n",
    "wt = 1411.45  # weight(grams)\n",
    "Bv = 47.05  # billet volume(ml)\n",
    "Mv = 132.00  # matrix cell volume(ml)\n",
    "Vref = 408.00  # reference cell volume(ml)\n",
    "Pref = 144.61  # initial pressure(psig)\n",
    "Pexp = 133.95  # final equalized pressure(psig)"
   ]
  },
  {
   "cell_type": "code",
   "execution_count": 17,
   "id": "622c33bb",
   "metadata": {},
   "outputs": [
    {
     "name": "stdout",
     "output_type": "stream",
     "text": [
      "Vb = 67.34287381706709\n",
      "Vexp = 492.95\n",
      "Vm = 52.48057110862254\n",
      "Vp = 14.862302708444545\n",
      "pm = 26.894714942766683\n"
     ]
    }
   ],
   "source": [
    "Vb = (math.pi*d**2*l)/4  # bulk volume(ml)\n",
    "Vexp = Vref + Mv -Bv  # total volume(ml)\n",
    "Vm = Vexp - ((Pref*Vref)/Pexp) # matrix volume(ml)\n",
    "Vp = Vb - Vm # pore volume(ml)\n",
    "pm = wt/Vm # grain/matrix density(g/ml)\n",
    "print(f'Vb = {Vb}')\n",
    "print(f'Vexp = {Vexp}')\n",
    "print(f'Vm = {Vm}')\n",
    "print(f'Vp = {Vp}')\n",
    "print(f'pm = {pm}')"
   ]
  },
  {
   "cell_type": "code",
   "execution_count": 20,
   "id": "db6e6aae",
   "metadata": {},
   "outputs": [
    {
     "name": "stdout",
     "output_type": "stream",
     "text": [
      "Porosity = 22.069599745352576\n"
     ]
    }
   ],
   "source": [
    "porosity = (Vp/Vb)*100 # (percent)\n",
    "print(f'Porosity = {porosity}')"
   ]
  },
  {
   "cell_type": "markdown",
   "id": "ad6745f2",
   "metadata": {},
   "source": [
    "## Permeability determination:"
   ]
  },
  {
   "cell_type": "code",
   "execution_count": 81,
   "id": "109f5b38",
   "metadata": {},
   "outputs": [],
   "source": [
    "data = {\n",
    "    'Inlet pressure, Pi(atm)':[1.22,1.39,1.57,1.77,1.92],\n",
    "    'Gas flow rate, Qb(cc/sec)':[4.23,8.15,12.61,17.62,21.99],\n",
    "    'Mean flow rate, Qm(cc/sec)':[3.81,6.82,9.79,12.73,15.04],\n",
    "    'Permeability of gas, Kgas(mD)':[187.65,188.95,184.85,179.52,176.40]\n",
    "}\n",
    "df = pd.DataFrame(data)"
   ]
  },
  {
   "cell_type": "code",
   "execution_count": 82,
   "id": "e784c697",
   "metadata": {
    "scrolled": true
   },
   "outputs": [],
   "source": [
    "df['Change in pressure (atm)'] = round(df['Inlet pressure, Pi(atm)'] - 1, 2)\n",
    "df['Mean pressure, Pm(atm)'] = round((df['Inlet pressure, Pi(atm)'] + 1)/2, 2)\n",
    "df['Reciprocal pf Pm, 1/Pm(atm^-1)'] = round(1/df['Mean pressure, Pm(atm)'], 2)"
   ]
  },
  {
   "cell_type": "code",
   "execution_count": 83,
   "id": "b2c90814",
   "metadata": {},
   "outputs": [
    {
     "data": {
      "text/html": [
       "<div>\n",
       "<style scoped>\n",
       "    .dataframe tbody tr th:only-of-type {\n",
       "        vertical-align: middle;\n",
       "    }\n",
       "\n",
       "    .dataframe tbody tr th {\n",
       "        vertical-align: top;\n",
       "    }\n",
       "\n",
       "    .dataframe thead th {\n",
       "        text-align: right;\n",
       "    }\n",
       "</style>\n",
       "<table border=\"1\" class=\"dataframe\">\n",
       "  <thead>\n",
       "    <tr style=\"text-align: right;\">\n",
       "      <th></th>\n",
       "      <th>Inlet pressure, Pi(atm)</th>\n",
       "      <th>Gas flow rate, Qb(cc/sec)</th>\n",
       "      <th>Mean flow rate, Qm(cc/sec)</th>\n",
       "      <th>Permeability of gas, Kgas(mD)</th>\n",
       "      <th>Change in pressure (atm)</th>\n",
       "      <th>Mean pressure, Pm(atm)</th>\n",
       "      <th>Reciprocal pf Pm, 1/Pm(atm^-1)</th>\n",
       "    </tr>\n",
       "  </thead>\n",
       "  <tbody>\n",
       "    <tr>\n",
       "      <th>0</th>\n",
       "      <td>1.22</td>\n",
       "      <td>4.23</td>\n",
       "      <td>3.81</td>\n",
       "      <td>187.65</td>\n",
       "      <td>0.22</td>\n",
       "      <td>1.11</td>\n",
       "      <td>0.90</td>\n",
       "    </tr>\n",
       "    <tr>\n",
       "      <th>1</th>\n",
       "      <td>1.39</td>\n",
       "      <td>8.15</td>\n",
       "      <td>6.82</td>\n",
       "      <td>188.95</td>\n",
       "      <td>0.39</td>\n",
       "      <td>1.19</td>\n",
       "      <td>0.84</td>\n",
       "    </tr>\n",
       "    <tr>\n",
       "      <th>2</th>\n",
       "      <td>1.57</td>\n",
       "      <td>12.61</td>\n",
       "      <td>9.79</td>\n",
       "      <td>184.85</td>\n",
       "      <td>0.57</td>\n",
       "      <td>1.28</td>\n",
       "      <td>0.78</td>\n",
       "    </tr>\n",
       "    <tr>\n",
       "      <th>3</th>\n",
       "      <td>1.77</td>\n",
       "      <td>17.62</td>\n",
       "      <td>12.73</td>\n",
       "      <td>179.52</td>\n",
       "      <td>0.77</td>\n",
       "      <td>1.38</td>\n",
       "      <td>0.72</td>\n",
       "    </tr>\n",
       "    <tr>\n",
       "      <th>4</th>\n",
       "      <td>1.92</td>\n",
       "      <td>21.99</td>\n",
       "      <td>15.04</td>\n",
       "      <td>176.40</td>\n",
       "      <td>0.92</td>\n",
       "      <td>1.46</td>\n",
       "      <td>0.68</td>\n",
       "    </tr>\n",
       "  </tbody>\n",
       "</table>\n",
       "</div>"
      ],
      "text/plain": [
       "   Inlet pressure, Pi(atm)  Gas flow rate, Qb(cc/sec)  \\\n",
       "0                     1.22                       4.23   \n",
       "1                     1.39                       8.15   \n",
       "2                     1.57                      12.61   \n",
       "3                     1.77                      17.62   \n",
       "4                     1.92                      21.99   \n",
       "\n",
       "   Mean flow rate, Qm(cc/sec)  Permeability of gas, Kgas(mD)  \\\n",
       "0                        3.81                         187.65   \n",
       "1                        6.82                         188.95   \n",
       "2                        9.79                         184.85   \n",
       "3                       12.73                         179.52   \n",
       "4                       15.04                         176.40   \n",
       "\n",
       "   Change in pressure (atm)  Mean pressure, Pm(atm)  \\\n",
       "0                      0.22                    1.11   \n",
       "1                      0.39                    1.19   \n",
       "2                      0.57                    1.28   \n",
       "3                      0.77                    1.38   \n",
       "4                      0.92                    1.46   \n",
       "\n",
       "   Reciprocal pf Pm, 1/Pm(atm^-1)  \n",
       "0                            0.90  \n",
       "1                            0.84  \n",
       "2                            0.78  \n",
       "3                            0.72  \n",
       "4                            0.68  "
      ]
     },
     "execution_count": 83,
     "metadata": {},
     "output_type": "execute_result"
    }
   ],
   "source": [
    "df"
   ]
  },
  {
   "cell_type": "code",
   "execution_count": 84,
   "id": "382f85a0",
   "metadata": {},
   "outputs": [
    {
     "name": "stdout",
     "output_type": "stream",
     "text": [
      "Average value of Kgas= 183.474\n",
      "Average value of 1/Pm = 0.784\n"
     ]
    }
   ],
   "source": [
    "Kgas_avg = df['Permeability of gas, Kgas(mD)'].mean()\n",
    "Pm_inverse_avg = df['Reciprocal pf Pm, 1/Pm(atm^-1)'].mean()\n",
    "print(f'Average value of Kgas= {Kgas_avg}')\n",
    "print(f'Average value of 1/Pm = {Pm_inverse_avg}')"
   ]
  },
  {
   "cell_type": "code",
   "execution_count": 85,
   "id": "3207aff0",
   "metadata": {},
   "outputs": [
    {
     "data": {
      "text/html": [
       "<style>#sk-container-id-2 {color: black;background-color: white;}#sk-container-id-2 pre{padding: 0;}#sk-container-id-2 div.sk-toggleable {background-color: white;}#sk-container-id-2 label.sk-toggleable__label {cursor: pointer;display: block;width: 100%;margin-bottom: 0;padding: 0.3em;box-sizing: border-box;text-align: center;}#sk-container-id-2 label.sk-toggleable__label-arrow:before {content: \"▸\";float: left;margin-right: 0.25em;color: #696969;}#sk-container-id-2 label.sk-toggleable__label-arrow:hover:before {color: black;}#sk-container-id-2 div.sk-estimator:hover label.sk-toggleable__label-arrow:before {color: black;}#sk-container-id-2 div.sk-toggleable__content {max-height: 0;max-width: 0;overflow: hidden;text-align: left;background-color: #f0f8ff;}#sk-container-id-2 div.sk-toggleable__content pre {margin: 0.2em;color: black;border-radius: 0.25em;background-color: #f0f8ff;}#sk-container-id-2 input.sk-toggleable__control:checked~div.sk-toggleable__content {max-height: 200px;max-width: 100%;overflow: auto;}#sk-container-id-2 input.sk-toggleable__control:checked~label.sk-toggleable__label-arrow:before {content: \"▾\";}#sk-container-id-2 div.sk-estimator input.sk-toggleable__control:checked~label.sk-toggleable__label {background-color: #d4ebff;}#sk-container-id-2 div.sk-label input.sk-toggleable__control:checked~label.sk-toggleable__label {background-color: #d4ebff;}#sk-container-id-2 input.sk-hidden--visually {border: 0;clip: rect(1px 1px 1px 1px);clip: rect(1px, 1px, 1px, 1px);height: 1px;margin: -1px;overflow: hidden;padding: 0;position: absolute;width: 1px;}#sk-container-id-2 div.sk-estimator {font-family: monospace;background-color: #f0f8ff;border: 1px dotted black;border-radius: 0.25em;box-sizing: border-box;margin-bottom: 0.5em;}#sk-container-id-2 div.sk-estimator:hover {background-color: #d4ebff;}#sk-container-id-2 div.sk-parallel-item::after {content: \"\";width: 100%;border-bottom: 1px solid gray;flex-grow: 1;}#sk-container-id-2 div.sk-label:hover label.sk-toggleable__label {background-color: #d4ebff;}#sk-container-id-2 div.sk-serial::before {content: \"\";position: absolute;border-left: 1px solid gray;box-sizing: border-box;top: 0;bottom: 0;left: 50%;z-index: 0;}#sk-container-id-2 div.sk-serial {display: flex;flex-direction: column;align-items: center;background-color: white;padding-right: 0.2em;padding-left: 0.2em;position: relative;}#sk-container-id-2 div.sk-item {position: relative;z-index: 1;}#sk-container-id-2 div.sk-parallel {display: flex;align-items: stretch;justify-content: center;background-color: white;position: relative;}#sk-container-id-2 div.sk-item::before, #sk-container-id-2 div.sk-parallel-item::before {content: \"\";position: absolute;border-left: 1px solid gray;box-sizing: border-box;top: 0;bottom: 0;left: 50%;z-index: -1;}#sk-container-id-2 div.sk-parallel-item {display: flex;flex-direction: column;z-index: 1;position: relative;background-color: white;}#sk-container-id-2 div.sk-parallel-item:first-child::after {align-self: flex-end;width: 50%;}#sk-container-id-2 div.sk-parallel-item:last-child::after {align-self: flex-start;width: 50%;}#sk-container-id-2 div.sk-parallel-item:only-child::after {width: 0;}#sk-container-id-2 div.sk-dashed-wrapped {border: 1px dashed gray;margin: 0 0.4em 0.5em 0.4em;box-sizing: border-box;padding-bottom: 0.4em;background-color: white;}#sk-container-id-2 div.sk-label label {font-family: monospace;font-weight: bold;display: inline-block;line-height: 1.2em;}#sk-container-id-2 div.sk-label-container {text-align: center;}#sk-container-id-2 div.sk-container {/* jupyter's `normalize.less` sets `[hidden] { display: none; }` but bootstrap.min.css set `[hidden] { display: none !important; }` so we also need the `!important` here to be able to override the default hidden behavior on the sphinx rendered scikit-learn.org. See: https://github.com/scikit-learn/scikit-learn/issues/21755 */display: inline-block !important;position: relative;}#sk-container-id-2 div.sk-text-repr-fallback {display: none;}</style><div id=\"sk-container-id-2\" class=\"sk-top-container\"><div class=\"sk-text-repr-fallback\"><pre>LinearRegression()</pre><b>In a Jupyter environment, please rerun this cell to show the HTML representation or trust the notebook. <br />On GitHub, the HTML representation is unable to render, please try loading this page with nbviewer.org.</b></div><div class=\"sk-container\" hidden><div class=\"sk-item\"><div class=\"sk-estimator sk-toggleable\"><input class=\"sk-toggleable__control sk-hidden--visually\" id=\"sk-estimator-id-2\" type=\"checkbox\" checked><label for=\"sk-estimator-id-2\" class=\"sk-toggleable__label sk-toggleable__label-arrow\">LinearRegression</label><div class=\"sk-toggleable__content\"><pre>LinearRegression()</pre></div></div></div></div></div>"
      ],
      "text/plain": [
       "LinearRegression()"
      ]
     },
     "execution_count": 85,
     "metadata": {},
     "output_type": "execute_result"
    }
   ],
   "source": [
    "X = df['Reciprocal pf Pm, 1/Pm(atm^-1)'].values.reshape(-1,1)\n",
    "y = df['Permeability of gas, Kgas(mD)']\n",
    "\n",
    "model = LinearRegression()\n",
    "model.fit(X, y)"
   ]
  },
  {
   "cell_type": "code",
   "execution_count": 86,
   "id": "57b3bfbe",
   "metadata": {},
   "outputs": [
    {
     "name": "stdout",
     "output_type": "stream",
     "text": [
      "slope = 56.29187817258879\n",
      "Kl = 139.3411675126904\n",
      "b = 0.40398598043512196\n"
     ]
    }
   ],
   "source": [
    "m = model.coef_[0]\n",
    "c = model.intercept_\n",
    "print(f'slope = {m}')\n",
    "print(f'Kl = {c}')\n",
    "print(f'b = {m/c}')"
   ]
  },
  {
   "cell_type": "code",
   "execution_count": 87,
   "id": "e91e84d1",
   "metadata": {},
   "outputs": [],
   "source": [
    "arr = np.linspace(0.0,1.0,20)\n",
    "line_arr = m*arr + c"
   ]
  },
  {
   "cell_type": "code",
   "execution_count": 88,
   "id": "e792ec6c",
   "metadata": {
    "scrolled": false
   },
   "outputs": [
    {
     "data": {
      "image/png": "[encoded data removed]",
      "text/plain": [
       "<Figure size 1200x500 with 1 Axes>"
      ]
     },
     "metadata": {},
     "output_type": "display_data"
    }
   ],
   "source": [
    "plt.figure(figsize=(12,5))\n",
    "\n",
    "plt.xlim(0, 1.00)\n",
    "plt.ylim(100, 200)\n",
    "plt.scatter(df['Reciprocal pf Pm, 1/Pm(atm^-1)'], df['Permeability of gas, Kgas(mD)'])\n",
    "plt.plot(arr, line_arr, color = 'r', linestyle = 'dashed')\n",
    "\n",
    "plt.xlabel('1/Pm (atm^-1)')\n",
    "plt.ylabel('Kgas (mD)')\n",
    "\n",
    "plt.show()"
   ]
  },
  {
   "cell_type": "markdown",
   "id": "a682cb8f",
   "metadata": {},
   "source": [
    "### Result\n",
    "\n",
    "For the used sample:\n",
    "\n",
    "* Porosity = 22.07%\n",
    "* Liquid Permeability = 139.34 mD"
   ]
  }
 ],
 "metadata": {
  "kernelspec": {
   "display_name": "Python 3 (ipykernel)",
   "language": "python",
   "name": "python3"
  },
  "language_info": {
   "codemirror_mode": {
    "name": "ipython",
    "version": 3
   },
   "file_extension": ".py",
   "mimetype": "text/x-python",
   "name": "python",
   "nbconvert_exporter": "python",
   "pygments_lexer": "ipython3",
   "version": "3.11.7"
  }
 },
 "nbformat": 4,
 "nbformat_minor": 5
}
